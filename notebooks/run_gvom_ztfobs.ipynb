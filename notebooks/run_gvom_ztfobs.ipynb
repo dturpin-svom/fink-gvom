{
 "cells": [
  {
   "cell_type": "markdown",
   "id": "6de03f27",
   "metadata": {},
   "source": [
    "# How to run the GVOM transient filters on the last detected ZTF transient?"
   ]
  },
  {
   "cell_type": "markdown",
   "id": "37b73672",
   "metadata": {},
   "source": [
    "We first import the relevant packages and we move to the main directory of the fink-gvom package"
   ]
  },
  {
   "cell_type": "code",
   "execution_count": 8,
   "id": "3c0f06f6",
   "metadata": {},
   "outputs": [
    {
     "name": "stdout",
     "output_type": "stream",
     "text": [
      "/local/home/dt270490/Documents/Softwares/fink-gvom\n"
     ]
    }
   ],
   "source": [
    "%cd /local/home/dt270490/Documents/Softwares/fink-gvom/\n",
    "\n",
    "import pandas as pd\n",
    "import requests\n",
    "import io\n",
    "import astropy.units as u\n",
    "import utils\n",
    "import io\n",
    "import gvom_filters\n",
    "import fink_too_plots"
   ]
  },
  {
   "cell_type": "markdown",
   "id": "23df790a",
   "metadata": {},
   "source": [
    "## Use the \"latests\" FINK API"
   ]
  },
  {
   "cell_type": "code",
   "execution_count": 9,
   "id": "be945d92",
   "metadata": {},
   "outputs": [],
   "source": [
    "def get_fink_alert(nalert):\n",
    "    \n",
    "    # Get latests alerts\n",
    "    r = requests.post(\n",
    "      'https://fink-portal.org/api/v1/latests',\n",
    "      json={\n",
    "        'class': 'Unknown',\n",
    "        'n': nalert\n",
    "      }\n",
    "    )\n",
    "    \n",
    "    # Format output in a DataFrame\n",
    "    pdf = pd.read_json(io.BytesIO(r.content))\n",
    "    return pdf"
   ]
  },
  {
   "cell_type": "markdown",
   "id": "ca53c561",
   "metadata": {},
   "source": [
    "## Get back the last N transients stored in the FINK DB"
   ]
  },
  {
   "cell_type": "code",
   "execution_count": 10,
   "id": "121cc47a",
   "metadata": {},
   "outputs": [],
   "source": [
    "# Load the last 1000 alerts\n",
    "pdf_test = get_fink_alert(1000)"
   ]
  },
  {
   "cell_type": "markdown",
   "id": "ec5f3f0e",
   "metadata": {},
   "source": [
    "## Load the GVOM observatories config (location and astro constraints)"
   ]
  },
  {
   "cell_type": "code",
   "execution_count": 11,
   "id": "fea1bea0",
   "metadata": {},
   "outputs": [
    {
     "ename": "NameError",
     "evalue": "name 'AltitudeConstraint' is not defined",
     "output_type": "error",
     "traceback": [
      "\u001b[0;31m---------------------------------------------------------------------------\u001b[0m",
      "\u001b[0;31mNameError\u001b[0m                                 Traceback (most recent call last)",
      "\u001b[0;32m/tmp/ipykernel_209748/4122223981.py\u001b[0m in \u001b[0;36m<module>\u001b[0;34m\u001b[0m\n\u001b[1;32m      4\u001b[0m \u001b[0;31m# Define the observationnal constraints\u001b[0m\u001b[0;34m\u001b[0m\u001b[0;34m\u001b[0m\u001b[0m\n\u001b[1;32m      5\u001b[0m constraints = [\n\u001b[0;32m----> 6\u001b[0;31m     \u001b[0mAltitudeConstraint\u001b[0m\u001b[0;34m(\u001b[0m\u001b[0;36m30\u001b[0m \u001b[0;34m*\u001b[0m \u001b[0mu\u001b[0m\u001b[0;34m.\u001b[0m\u001b[0mdeg\u001b[0m\u001b[0;34m,\u001b[0m \u001b[0;36m90\u001b[0m \u001b[0;34m*\u001b[0m \u001b[0mu\u001b[0m\u001b[0;34m.\u001b[0m\u001b[0mdeg\u001b[0m\u001b[0;34m)\u001b[0m\u001b[0;34m,\u001b[0m\u001b[0;34m\u001b[0m\u001b[0;34m\u001b[0m\u001b[0m\n\u001b[0m\u001b[1;32m      7\u001b[0m     \u001b[0mAirmassConstraint\u001b[0m\u001b[0;34m(\u001b[0m\u001b[0;36m2\u001b[0m\u001b[0;34m)\u001b[0m\u001b[0;34m,\u001b[0m\u001b[0;34m\u001b[0m\u001b[0;34m\u001b[0m\u001b[0m\n\u001b[1;32m      8\u001b[0m     MoonSeparationConstraint(min=20* u.deg)]#,AtNightConstraint.twilight_astronomical()]\n",
      "\u001b[0;31mNameError\u001b[0m: name 'AltitudeConstraint' is not defined"
     ]
    }
   ],
   "source": [
    "# Load the observatories info\n",
    "obs_filename = \"gvom_core_network.csv\"\n",
    "observatories = utils.load_observatories(obs_filename)\n",
    "# Define the observationnal constraints\n",
    "constraints = [\n",
    "    AltitudeConstraint(30 * u.deg, 90 * u.deg),\n",
    "    AirmassConstraint(2),\n",
    "    MoonSeparationConstraint(min=20* u.deg)]#,AtNightConstraint.twilight_astronomical()]\n"
   ]
  },
  {
   "cell_type": "code",
   "execution_count": null,
   "id": "c01eab1a",
   "metadata": {},
   "outputs": [],
   "source": []
  }
 ],
 "metadata": {
  "kernelspec": {
   "display_name": "Python 3 (ipykernel)",
   "language": "python",
   "name": "python3"
  },
  "language_info": {
   "codemirror_mode": {
    "name": "ipython",
    "version": 3
   },
   "file_extension": ".py",
   "mimetype": "text/x-python",
   "name": "python",
   "nbconvert_exporter": "python",
   "pygments_lexer": "ipython3",
   "version": "3.9.12"
  }
 },
 "nbformat": 4,
 "nbformat_minor": 5
}
